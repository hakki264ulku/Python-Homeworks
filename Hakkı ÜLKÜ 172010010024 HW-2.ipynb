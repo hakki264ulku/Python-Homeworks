{
 "cells": [
  {
   "cell_type": "code",
   "execution_count": null,
   "metadata": {},
   "outputs": [],
   "source": [
    "x=int(input(\"Enter the number of rows: \")) # This input takes the row number from the user\n",
    "def pascal(row,col):# This function returns 1 if col = 1 or row = col.(row represents row number and col represents column number.)\n",
    "    if (col == 1):\n",
    "        return 1\n",
    "    if (row == col):\n",
    "        return 1\n",
    "    upleft=pascal(row-1,col-1) #when col is not 1 or col is not equal to row, function helps us to find up left and up right numbers to su them\n",
    "    upright=pascal(row-1,col)\n",
    "    return upleft+upright\n",
    "for r in range(1,x+1):#this loop is used to work on the row\n",
    "    for c in range(1,r+1):#this loop is used to work on the columns which are in the present row\n",
    "        print(pascal(r,c), end=\" \")#prints the row \n",
    "    print(\" \")#helps us to pass another row"
   ]
  },
  {
   "cell_type": "markdown",
   "metadata": {},
   "source": [
    " Hakkı ÜLKÜ 172010010024 Engineering Faculty"
   ]
  },
  {
   "cell_type": "code",
   "execution_count": null,
   "metadata": {},
   "outputs": [],
   "source": [
    "number = int(input(\"How many elements do you want to have in your main list? write here: \"))# Takes the number of elements in list from the user\n",
    "main_list=[]#\n",
    "while number>=1:#The loop is used to put the elements into the main list\n",
    "    a=int(input(\"Write an element: \"))\n",
    "    main_list.append(a)\n",
    "    number=number-1\n",
    "\n",
    "def sublists():# The function is used to find all subsets of the main list and return them\n",
    "    global main_list# Takes the main_list from global to local\n",
    "    result=[[]]\n",
    "    for x in main_list:#takes the elements of main_list\n",
    "        new_sub=[i+[x] for i in result]#new_sub will give the sublists\n",
    "        result.extend(new_sub)#puts the new_sub into the result\n",
    "    return result\n",
    "\n",
    "print(sublists())"
   ]
  },
  {
   "cell_type": "markdown",
   "metadata": {},
   "source": [
    "Hakkı ÜLKÜ 172010010024 Engineering Faculty"
   ]
  },
  {
   "cell_type": "code",
   "execution_count": null,
   "metadata": {},
   "outputs": [],
   "source": []
  }
 ],
 "metadata": {
  "kernelspec": {
   "display_name": "Python 3",
   "language": "python",
   "name": "python3"
  },
  "language_info": {
   "codemirror_mode": {
    "name": "ipython",
    "version": 3
   },
   "file_extension": ".py",
   "mimetype": "text/x-python",
   "name": "python",
   "nbconvert_exporter": "python",
   "pygments_lexer": "ipython3",
   "version": "3.7.3"
  }
 },
 "nbformat": 4,
 "nbformat_minor": 2
}
