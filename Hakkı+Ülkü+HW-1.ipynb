{
 "cells": [
  {
   "cell_type": "code",
   "execution_count": null,
   "metadata": {
    "collapsed": true
   },
   "outputs": [],
   "source": [
    "Student Number:172010010024\n",
    "Student Name-Surname: Hakkı ÜLKÜ\n",
    "Homework-1"
   ]
  },
  {
   "cell_type": "code",
   "execution_count": null,
   "metadata": {},
   "outputs": [
    {
     "name": "stdout",
     "output_type": "stream",
     "text": [
      "Rules: You need to write both numbers for Outer square and hole as even or odd numbers and positives!\n"
     ]
    }
   ],
   "source": [
    "print(\"Rules: You need to write both numbers for Outer square and hole as even or odd numbers and positives!\") #Saying the rules to the user.\n",
    "while True:#Ask user to enter Square's and Holes' dimensions, and the loop supplies another chance to the user in the case of user to write numbers wrongly according to rules.\n",
    "    A = int(input(\"Square's dimension:\"))#A = outer shell's dimensions\n",
    "    B = int(input(\"Hole's dimension:\"))#B = inner shell's dimensions\n",
    "    if ((A%2 == 0 and B%2==0) or (A%2 == 1 and B%2 == 1)) and (A>0 and B>0) and (A>B):#Checks the numbers whether they are proper according to rules or not, if it is wrong then it warns the user, but if there is no mistake, it prints the Shape.\n",
    "        print(\"Square's dimension:\",A,\" Hole's dimension:\",B)\n",
    "        for x in range(1,A+1):#This loop is used for printing the shape line by line according to A and B\n",
    "            if x <= (A-B)/2:#Prints A x \"* \" in the condition of x<=(A-B)/2\n",
    "                        print(A* \"* \")\n",
    "            if (A-B)/2<x<(A+B)/2 + 1:# When x is in between (A-B)/2<x<(A+B)/2 + 1, prints (A-B)/2) * \"* \" + B*\"  \" + int((A-B)/2) * \"* \"\n",
    "                    print(int((A-B)/2) * \"* \" + B*\"  \" + int((A-B)/2) * \"* \")\n",
    "            if x>=(A+B)/2 + 1:\n",
    "                    print(A* \"* \")#Prints A x \"* \" in the condition of x>=(A+B)/2 + 1\n",
    "    else:#if the rules are not obeyed by the user, it says something goes wrong\n",
    "        print(\"Please enter the numbers according to the rules given above!\")\n"
   ]
  },
  {
   "cell_type": "code",
   "execution_count": null,
   "metadata": {
    "collapsed": true
   },
   "outputs": [],
   "source": []
  },
  {
   "cell_type": "code",
   "execution_count": null,
   "metadata": {
    "collapsed": true
   },
   "outputs": [],
   "source": []
  }
 ],
 "metadata": {
  "kernelspec": {
   "display_name": "Python 3",
   "language": "python",
   "name": "python3"
  },
  "language_info": {
   "codemirror_mode": {
    "name": "ipython",
    "version": 3
   },
   "file_extension": ".py",
   "mimetype": "text/x-python",
   "name": "python",
   "nbconvert_exporter": "python",
   "pygments_lexer": "ipython3",
   "version": "3.6.2"
  }
 },
 "nbformat": 4,
 "nbformat_minor": 2
}
