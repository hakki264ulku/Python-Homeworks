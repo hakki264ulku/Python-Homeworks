{
 "cells": [
  {
   "cell_type": "code",
   "execution_count": 2,
   "metadata": {},
   "outputs": [
    {
     "name": "stdout",
     "output_type": "stream",
     "text": [
      "Enter the file name (e.g. aaaa.txt): adsa\n",
      "Enter word to search: asdas\n",
      "Enter word to replace with: asd\n",
      "Enter file name to save (e.g. aaaa.txt): as\n",
      "file not found\n"
     ]
    }
   ],
   "source": [
    "with open(input(\"Enter the file name (e.g. aaaa.txt): \"),\"a+\") as dsy:#Taking the file name from the user, \"a+\" meaning append and read\n",
    "    x =input(\"Enter word to search: \")#Taking the word to search\n",
    "    y=input(\"Enter word to replace with: \")#taking the word to replace\n",
    "    with open(input(\"Enter file name to save (e.g. aaaa.txt): \"),\"w\") as dsy_new:#taking the new file and, \"w\" meaning write \n",
    "        dsy.seek(0)#start from the first latter\n",
    "        new_file=dsy.read(1)#get the first latter\n",
    "        if not new_file:# then check if it's empty or not,\n",
    "            print(\"file not found\")# if it is empty, displays the statment\n",
    "        else:#otherwise \n",
    "            print(\"file is found and changes have been performed to it\")#display the statement\n",
    "            dsy.seek(0)#again start cursor from the first latter\n",
    "            new_file=dsy.read()#read all text and assign the info to the new file\n",
    "            new_file=new_file.replace(x,y)#Changing the words or items according to user's wish, in the new file\n",
    "            dsy_new.write(new_file)#Write the file with modified text"
   ]
  },
  {
   "cell_type": "markdown",
   "metadata": {},
   "source": [
    "# Hakkı ÜLKÜ ~ 172010010024 ~ Engineering Faculty"
   ]
  }
 ],
 "metadata": {
  "kernelspec": {
   "display_name": "Python 3",
   "language": "python",
   "name": "python3"
  },
  "language_info": {
   "codemirror_mode": {
    "name": "ipython",
    "version": 3
   },
   "file_extension": ".py",
   "mimetype": "text/x-python",
   "name": "python",
   "nbconvert_exporter": "python",
   "pygments_lexer": "ipython3",
   "version": "3.7.3"
  }
 },
 "nbformat": 4,
 "nbformat_minor": 2
}
