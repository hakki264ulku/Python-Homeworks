{
 "cells": [
  {
   "cell_type": "code",
   "execution_count": null,
   "metadata": {},
   "outputs": [],
   "source": [
    "names_grades={} #empty dictionary\n",
    "x=0\n",
    "while x<10:#this loop is used to take ten students names and grades\n",
    "    x+=1\n",
    "    name=str(input(\"Write the name of the student: \")) # Take name of the student from user\n",
    "    grade=float(input(\"Write the grade of the student: \"))# Take grade of the student from user\n",
    "    print(\"\\n\")\n",
    "    names_grades[name]=grade # Assigning name of the student as a key and grade of the student as a value in the dictionary\n",
    "print(names_grades)#Print the dictionary which includes names and grades of the students\n",
    "\n",
    "def fun(n_dic):#Returns the average value of the grades\n",
    "    all_grades=[]\n",
    "    for i in n_dic.keys():\n",
    "        all_grades.append(names_grades[i])#Putting the grades into an empty list to find out the total of them\n",
    "    total=0\n",
    "    for x in all_grades:\n",
    "        total+=x\n",
    "    return total/10\n",
    "fun(names_grades)\n",
    "print(\"The average of the grades is\",fun(names_grades))\n",
    "for i in names_grades.keys():#checks whether the grade is greater then the average or not\n",
    "    if names_grades[i]<fun(names_grades):\n",
    "        print(i,names_grades[i],\"failed\")\n",
    "    else:\n",
    "        print(i,names_grades[i],\"passed\")"
   ]
  },
  {
   "cell_type": "markdown",
   "metadata": {},
   "source": [
    "# Hakkı ÜLKÜ 172010010024"
   ]
  },
  {
   "cell_type": "code",
   "execution_count": null,
   "metadata": {},
   "outputs": [],
   "source": []
  }
 ],
 "metadata": {
  "kernelspec": {
   "display_name": "Python 3",
   "language": "python",
   "name": "python3"
  },
  "language_info": {
   "codemirror_mode": {
    "name": "ipython",
    "version": 3
   },
   "file_extension": ".py",
   "mimetype": "text/x-python",
   "name": "python",
   "nbconvert_exporter": "python",
   "pygments_lexer": "ipython3",
   "version": "3.7.3"
  }
 },
 "nbformat": 4,
 "nbformat_minor": 2
}
